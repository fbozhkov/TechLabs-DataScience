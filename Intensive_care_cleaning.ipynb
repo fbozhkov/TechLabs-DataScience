{
 "cells": [
  {
   "cell_type": "code",
   "execution_count": 1,
   "metadata": {
    "collapsed": true
   },
   "outputs": [],
   "source": [
    "import pandas as pd\n",
    "import numpy as np"
   ]
  },
  {
   "cell_type": "code",
   "execution_count": null,
   "outputs": [],
   "source": [
    "df = pd.read_csv('intensive_care_beds_2020_raw.csv')"
   ],
   "metadata": {
    "collapsed": false,
    "pycharm": {
     "name": "#%%\n"
    }
   }
  },
  {
   "cell_type": "code",
   "execution_count": null,
   "outputs": [],
   "source": [
    "# removing last row due to garbage data\n",
    "df = df[:-1]\n",
    "df['gemeindeschluessel'] = df['gemeindeschluessel'].astype(int)\n",
    "#search for a specific contained string assigning it to mask and then locating it\n",
    "mask = np.column_stack([df['bundesland'].str.contains(r\"\\x1a\", na=False) for col in df])\n",
    "df.loc[mask.any(axis=1)]\n",
    "# remove row due to garbage data\n",
    "df = df.drop([72675])\n",
    "# reset index labeling\n",
    "df = df.reset_index(drop=True)\n",
    "\n",
    "df['bundesland'] = df['bundesland'].astype(int)\n",
    "\n",
    "df['daten_stand'] =  pd.to_datetime(df['daten_stand'])"
   ],
   "metadata": {
    "collapsed": false,
    "pycharm": {
     "name": "#%%\n"
    }
   }
  }
 ],
 "metadata": {
  "kernelspec": {
   "name": "pycharm-7b1fa550",
   "language": "python",
   "display_name": "PyCharm (Time Series)"
  },
  "language_info": {
   "codemirror_mode": {
    "name": "ipython",
    "version": 2
   },
   "file_extension": ".py",
   "mimetype": "text/x-python",
   "name": "python",
   "nbconvert_exporter": "python",
   "pygments_lexer": "ipython2",
   "version": "2.7.6"
  }
 },
 "nbformat": 4,
 "nbformat_minor": 0
}