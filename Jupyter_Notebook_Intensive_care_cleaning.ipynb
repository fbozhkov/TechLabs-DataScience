{
 "cells": [
  {
   "cell_type": "code",
   "execution_count": null,
   "metadata": {},
   "outputs": [],
   "source": [
    "import pandas as pd\n",
    "import numpy as np"
   ]
  },
  {
   "cell_type": "code",
   "execution_count": null,
   "metadata": {
    "pycharm": {
     "name": "#%%\n"
    }
   },
   "outputs": [],
   "source": [
    "df = pd.read_csv('intensive_care_beds_2020_raw.csv', low_memory=False)"
   ]
  },
  {
   "cell_type": "code",
   "execution_count": null,
   "metadata": {
    "pycharm": {
     "name": "#%%\n"
    }
   },
   "outputs": [],
   "source": [
    "# removing last row due to garbage data\n",
    "df = df[:-1]\n",
    "df['gemeindeschluessel'] = df['gemeindeschluessel'].astype(int)\n",
    "# search for a specific contained string assigning it to mask and then locating it\n",
    "mask = np.column_stack([df['bundesland'].str.contains(r\"\\x1a\", na=False) for col in df])\n",
    "df.loc[mask.any(axis=1)]\n",
    "# remove row due to garbage data\n",
    "df = df.drop([72675])\n",
    "# reset index labeling\n",
    "df = df.reset_index(drop=True)\n",
    "# set bundesland column type as int\n",
    "df['bundesland'] = df['bundesland'].astype(int)\n",
    "# set 'daten_stand' column type to datetime\n",
    "df['daten_stand'] =  pd.to_datetime(df['daten_stand'])\n",
    "#TO DO save the cleaned DataFrame as .csv file"
   ]
  },
  {
   "cell_type": "code",
   "execution_count": null,
   "metadata": {
    "pycharm": {
     "name": "#%%\n"
    }
   },
   "outputs": [],
   "source": [
    "# add columns for additional insight\n",
    "df = df.assign(betten_total=df.loc[:, 'betten_frei' : 'betten_belegt'].sum(1))\n",
    "df = df.assign(perc_free_beds = (df['betten_frei'] / df['betten_total']) * 100)\n",
    "df = df.assign(perc_covid_patients_beatmet = (df['faelle_covid_aktuell_beatmet'] / df['betten_total']) * 100)"
   ]
  },
  {
   "cell_type": "code",
   "execution_count": null,
   "outputs": [],
   "source": [
    "# specify the date_format in order to save it when reading .csv file\n",
    "df.to_csv('intensive_care_beds_2020_cleaned.csv', date_format='%Y-%m-%d')\n"
   ],
   "metadata": {
    "collapsed": false,
    "pycharm": {
     "name": "#%%\n"
    }
   }
  }
 ],
 "metadata": {
  "kernelspec": {
   "name": "pycharm-7b1fa550",
   "language": "python",
   "display_name": "PyCharm (Time Series)"
  },
  "language_info": {
   "codemirror_mode": {
    "name": "ipython",
    "version": 3
   },
   "file_extension": ".py",
   "mimetype": "text/x-python",
   "name": "python",
   "nbconvert_exporter": "python",
   "pygments_lexer": "ipython3",
   "version": "3.7.4"
  }
 },
 "nbformat": 4,
 "nbformat_minor": 1
}